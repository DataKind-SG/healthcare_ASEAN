{
 "cells": [
  {
   "cell_type": "code",
   "execution_count": 1,
   "metadata": {},
   "outputs": [],
   "source": [
    "import pandas as pd"
   ]
  },
  {
   "cell_type": "markdown",
   "metadata": {},
   "source": [
    "# Explore & clean disease data from MOH\n",
    "Extract data from all excel sheets"
   ]
  },
  {
   "cell_type": "code",
   "execution_count": 36,
   "metadata": {},
   "outputs": [],
   "source": [
    "weekly_disease = pd.read_excel(\"./../data/raw/disease_SG/weekly-infectious-bulletin_caseswk09y2019.xlsx\", sheet_name=None, na_values=\"na\", skiprows=1)"
   ]
  },
  {
   "cell_type": "code",
   "execution_count": 122,
   "metadata": {},
   "outputs": [
    {
     "name": "stdout",
     "output_type": "stream",
     "text": [
      "Year 2019\n",
      "Year 2018 \n",
      "Year 2017 \n",
      "Year 2016\n",
      "Year 2015\n",
      "Year 2014\n",
      "Year 2013\n",
      "Year 2012\n"
     ]
    }
   ],
   "source": [
    "for key in weekly_disease.keys():\n",
    "    print(key)"
   ]
  },
  {
   "cell_type": "code",
   "execution_count": 55,
   "metadata": {},
   "outputs": [
    {
     "data": {
      "text/plain": [
       "collections.OrderedDict"
      ]
     },
     "execution_count": 55,
     "metadata": {},
     "output_type": "execute_result"
    }
   ],
   "source": [
    "type(weekly_disease)"
   ]
  },
  {
   "cell_type": "markdown",
   "metadata": {},
   "source": [
    "## explore data"
   ]
  },
  {
   "cell_type": "code",
   "execution_count": 124,
   "metadata": {},
   "outputs": [],
   "source": [
    "df_2012 = weekly_disease.get('Year 2012')"
   ]
  },
  {
   "cell_type": "code",
   "execution_count": 125,
   "metadata": {},
   "outputs": [
    {
     "data": {
      "text/plain": [
       "Index(['Epidemiology Wk', 'Start', 'End', 'Cholera', 'Paratyphoid ',\n",
       "       'Typhoid ', 'Viral Hepatitis A', 'Viral Hepatitis E', 'Poliomyelitis',\n",
       "       'Plague', 'Yellow Fever', 'Dengue Fever', 'Dengue Haemorrhagic Fever',\n",
       "       'Malaria', 'Chikungunya', 'Hand, Foot and Mouth Disease', 'Diphtheria',\n",
       "       'Measles', 'Mumps  ', 'Rubella', 'SARS', 'Nipah',\n",
       "       'Acute Viral hepatitis B', 'Encephalitis', 'Legionellosis',\n",
       "       'Campylobacteriosis', 'Acute Viral hepatitis C', 'Melioidosis',\n",
       "       'Meningococcal Infection', 'Pertussis',\n",
       "       'Pneumococcal Disease (invasive)', 'Haemophilus influenzae type b',\n",
       "       'Salmonellosis(non-enteric fevers)', 'Avian Influenza',\n",
       "       'Acute Upper Respiratory Tract infections', 'Acute Conjunctivitis',\n",
       "       'Acute Diarrhoea', 'Chickenpox'],\n",
       "      dtype='object')"
      ]
     },
     "execution_count": 125,
     "metadata": {},
     "output_type": "execute_result"
    }
   ],
   "source": [
    "df_2012.columns"
   ]
  },
  {
   "cell_type": "code",
   "execution_count": 126,
   "metadata": {},
   "outputs": [
    {
     "data": {
      "text/html": [
       "<div>\n",
       "<style scoped>\n",
       "    .dataframe tbody tr th:only-of-type {\n",
       "        vertical-align: middle;\n",
       "    }\n",
       "\n",
       "    .dataframe tbody tr th {\n",
       "        vertical-align: top;\n",
       "    }\n",
       "\n",
       "    .dataframe thead th {\n",
       "        text-align: right;\n",
       "    }\n",
       "</style>\n",
       "<table border=\"1\" class=\"dataframe\">\n",
       "  <thead>\n",
       "    <tr style=\"text-align: right;\">\n",
       "      <th></th>\n",
       "      <th>Epidemiology Wk</th>\n",
       "      <th>Start</th>\n",
       "      <th>End</th>\n",
       "      <th>Cholera</th>\n",
       "      <th>Paratyphoid</th>\n",
       "      <th>Typhoid</th>\n",
       "      <th>Viral Hepatitis A</th>\n",
       "      <th>Viral Hepatitis E</th>\n",
       "      <th>Poliomyelitis</th>\n",
       "      <th>Plague</th>\n",
       "      <th>...</th>\n",
       "      <th>Meningococcal Infection</th>\n",
       "      <th>Pertussis</th>\n",
       "      <th>Pneumococcal Disease (invasive)</th>\n",
       "      <th>Haemophilus influenzae type b</th>\n",
       "      <th>Salmonellosis(non-enteric fevers)</th>\n",
       "      <th>Avian Influenza</th>\n",
       "      <th>Acute Upper Respiratory Tract infections</th>\n",
       "      <th>Acute Conjunctivitis</th>\n",
       "      <th>Acute Diarrhoea</th>\n",
       "      <th>Chickenpox</th>\n",
       "    </tr>\n",
       "  </thead>\n",
       "  <tbody>\n",
       "    <tr>\n",
       "      <th>0</th>\n",
       "      <td>1</td>\n",
       "      <td>2012-01-01</td>\n",
       "      <td>2012-01-07</td>\n",
       "      <td>0</td>\n",
       "      <td>1</td>\n",
       "      <td>6</td>\n",
       "      <td>1</td>\n",
       "      <td>3</td>\n",
       "      <td>0</td>\n",
       "      <td>0</td>\n",
       "      <td>...</td>\n",
       "      <td>0</td>\n",
       "      <td>2</td>\n",
       "      <td>3</td>\n",
       "      <td>0</td>\n",
       "      <td>26</td>\n",
       "      <td>0</td>\n",
       "      <td>2932.222222</td>\n",
       "      <td>119.777778</td>\n",
       "      <td>490.888889</td>\n",
       "      <td>18.000000</td>\n",
       "    </tr>\n",
       "    <tr>\n",
       "      <th>1</th>\n",
       "      <td>2</td>\n",
       "      <td>2012-01-08</td>\n",
       "      <td>2012-01-14</td>\n",
       "      <td>0</td>\n",
       "      <td>1</td>\n",
       "      <td>3</td>\n",
       "      <td>2</td>\n",
       "      <td>0</td>\n",
       "      <td>0</td>\n",
       "      <td>0</td>\n",
       "      <td>...</td>\n",
       "      <td>0</td>\n",
       "      <td>0</td>\n",
       "      <td>3</td>\n",
       "      <td>0</td>\n",
       "      <td>24</td>\n",
       "      <td>0</td>\n",
       "      <td>3188.727273</td>\n",
       "      <td>113.818182</td>\n",
       "      <td>575.090909</td>\n",
       "      <td>19.090909</td>\n",
       "    </tr>\n",
       "    <tr>\n",
       "      <th>2</th>\n",
       "      <td>3</td>\n",
       "      <td>2012-01-15</td>\n",
       "      <td>2012-01-21</td>\n",
       "      <td>0</td>\n",
       "      <td>1</td>\n",
       "      <td>5</td>\n",
       "      <td>3</td>\n",
       "      <td>0</td>\n",
       "      <td>0</td>\n",
       "      <td>0</td>\n",
       "      <td>...</td>\n",
       "      <td>0</td>\n",
       "      <td>5</td>\n",
       "      <td>3</td>\n",
       "      <td>0</td>\n",
       "      <td>21</td>\n",
       "      <td>0</td>\n",
       "      <td>3184.545455</td>\n",
       "      <td>106.000000</td>\n",
       "      <td>538.909091</td>\n",
       "      <td>16.363636</td>\n",
       "    </tr>\n",
       "  </tbody>\n",
       "</table>\n",
       "<p>3 rows × 38 columns</p>\n",
       "</div>"
      ],
      "text/plain": [
       "   Epidemiology Wk      Start        End  Cholera  Paratyphoid   Typhoid   \\\n",
       "0                1 2012-01-01 2012-01-07        0             1         6   \n",
       "1                2 2012-01-08 2012-01-14        0             1         3   \n",
       "2                3 2012-01-15 2012-01-21        0             1         5   \n",
       "\n",
       "   Viral Hepatitis A  Viral Hepatitis E  Poliomyelitis  Plague     ...      \\\n",
       "0                  1                  3              0       0     ...       \n",
       "1                  2                  0              0       0     ...       \n",
       "2                  3                  0              0       0     ...       \n",
       "\n",
       "   Meningococcal Infection  Pertussis  Pneumococcal Disease (invasive)  \\\n",
       "0                        0          2                                3   \n",
       "1                        0          0                                3   \n",
       "2                        0          5                                3   \n",
       "\n",
       "   Haemophilus influenzae type b  Salmonellosis(non-enteric fevers)  \\\n",
       "0                              0                                 26   \n",
       "1                              0                                 24   \n",
       "2                              0                                 21   \n",
       "\n",
       "   Avian Influenza  Acute Upper Respiratory Tract infections  \\\n",
       "0                0                               2932.222222   \n",
       "1                0                               3188.727273   \n",
       "2                0                               3184.545455   \n",
       "\n",
       "   Acute Conjunctivitis  Acute Diarrhoea  Chickenpox  \n",
       "0            119.777778       490.888889   18.000000  \n",
       "1            113.818182       575.090909   19.090909  \n",
       "2            106.000000       538.909091   16.363636  \n",
       "\n",
       "[3 rows x 38 columns]"
      ]
     },
     "execution_count": 126,
     "metadata": {},
     "output_type": "execute_result"
    }
   ],
   "source": [
    "df_2012.head(3)"
   ]
  },
  {
   "cell_type": "markdown",
   "metadata": {},
   "source": [
    "## Get diseases transmitted by mosquitoes"
   ]
  },
  {
   "cell_type": "code",
   "execution_count": 48,
   "metadata": {},
   "outputs": [],
   "source": [
    "df_2019 = df_2019[['Epidemiology Wk', 'Yellow Fever', 'Dengue ', 'DHF', 'Malaria', 'Chikungunya', 'Zika']]"
   ]
  },
  {
   "cell_type": "code",
   "execution_count": 50,
   "metadata": {},
   "outputs": [
    {
     "data": {
      "text/html": [
       "<div>\n",
       "<style scoped>\n",
       "    .dataframe tbody tr th:only-of-type {\n",
       "        vertical-align: middle;\n",
       "    }\n",
       "\n",
       "    .dataframe tbody tr th {\n",
       "        vertical-align: top;\n",
       "    }\n",
       "\n",
       "    .dataframe thead th {\n",
       "        text-align: right;\n",
       "    }\n",
       "</style>\n",
       "<table border=\"1\" class=\"dataframe\">\n",
       "  <thead>\n",
       "    <tr style=\"text-align: right;\">\n",
       "      <th></th>\n",
       "      <th>Epidemiology Wk</th>\n",
       "      <th>Yellow Fever</th>\n",
       "      <th>Dengue</th>\n",
       "      <th>DHF</th>\n",
       "      <th>Malaria</th>\n",
       "      <th>Chikungunya</th>\n",
       "      <th>Zika</th>\n",
       "    </tr>\n",
       "  </thead>\n",
       "  <tbody>\n",
       "    <tr>\n",
       "      <th>0</th>\n",
       "      <td>1</td>\n",
       "      <td>0.0</td>\n",
       "      <td>205.0</td>\n",
       "      <td>2.0</td>\n",
       "      <td>1.0</td>\n",
       "      <td>1.0</td>\n",
       "      <td>0.0</td>\n",
       "    </tr>\n",
       "    <tr>\n",
       "      <th>1</th>\n",
       "      <td>2</td>\n",
       "      <td>0.0</td>\n",
       "      <td>245.0</td>\n",
       "      <td>0.0</td>\n",
       "      <td>0.0</td>\n",
       "      <td>0.0</td>\n",
       "      <td>0.0</td>\n",
       "    </tr>\n",
       "    <tr>\n",
       "      <th>2</th>\n",
       "      <td>3</td>\n",
       "      <td>0.0</td>\n",
       "      <td>207.0</td>\n",
       "      <td>8.0</td>\n",
       "      <td>3.0</td>\n",
       "      <td>2.0</td>\n",
       "      <td>2.0</td>\n",
       "    </tr>\n",
       "    <tr>\n",
       "      <th>3</th>\n",
       "      <td>4</td>\n",
       "      <td>0.0</td>\n",
       "      <td>221.0</td>\n",
       "      <td>1.0</td>\n",
       "      <td>0.0</td>\n",
       "      <td>1.0</td>\n",
       "      <td>0.0</td>\n",
       "    </tr>\n",
       "    <tr>\n",
       "      <th>4</th>\n",
       "      <td>5</td>\n",
       "      <td>0.0</td>\n",
       "      <td>179.0</td>\n",
       "      <td>3.0</td>\n",
       "      <td>1.0</td>\n",
       "      <td>0.0</td>\n",
       "      <td>0.0</td>\n",
       "    </tr>\n",
       "    <tr>\n",
       "      <th>5</th>\n",
       "      <td>6</td>\n",
       "      <td>0.0</td>\n",
       "      <td>135.0</td>\n",
       "      <td>3.0</td>\n",
       "      <td>0.0</td>\n",
       "      <td>0.0</td>\n",
       "      <td>1.0</td>\n",
       "    </tr>\n",
       "    <tr>\n",
       "      <th>6</th>\n",
       "      <td>7</td>\n",
       "      <td>0.0</td>\n",
       "      <td>232.0</td>\n",
       "      <td>3.0</td>\n",
       "      <td>2.0</td>\n",
       "      <td>0.0</td>\n",
       "      <td>0.0</td>\n",
       "    </tr>\n",
       "    <tr>\n",
       "      <th>7</th>\n",
       "      <td>8</td>\n",
       "      <td>0.0</td>\n",
       "      <td>181.0</td>\n",
       "      <td>1.0</td>\n",
       "      <td>0.0</td>\n",
       "      <td>1.0</td>\n",
       "      <td>0.0</td>\n",
       "    </tr>\n",
       "    <tr>\n",
       "      <th>8</th>\n",
       "      <td>9</td>\n",
       "      <td>0.0</td>\n",
       "      <td>157.0</td>\n",
       "      <td>1.0</td>\n",
       "      <td>0.0</td>\n",
       "      <td>2.0</td>\n",
       "      <td>0.0</td>\n",
       "    </tr>\n",
       "    <tr>\n",
       "      <th>9</th>\n",
       "      <td>10</td>\n",
       "      <td>NaN</td>\n",
       "      <td>NaN</td>\n",
       "      <td>NaN</td>\n",
       "      <td>NaN</td>\n",
       "      <td>NaN</td>\n",
       "      <td>NaN</td>\n",
       "    </tr>\n",
       "  </tbody>\n",
       "</table>\n",
       "</div>"
      ],
      "text/plain": [
       "   Epidemiology Wk  Yellow Fever  Dengue   DHF  Malaria  Chikungunya  Zika\n",
       "0                1           0.0    205.0  2.0      1.0          1.0   0.0\n",
       "1                2           0.0    245.0  0.0      0.0          0.0   0.0\n",
       "2                3           0.0    207.0  8.0      3.0          2.0   2.0\n",
       "3                4           0.0    221.0  1.0      0.0          1.0   0.0\n",
       "4                5           0.0    179.0  3.0      1.0          0.0   0.0\n",
       "5                6           0.0    135.0  3.0      0.0          0.0   1.0\n",
       "6                7           0.0    232.0  3.0      2.0          0.0   0.0\n",
       "7                8           0.0    181.0  1.0      0.0          1.0   0.0\n",
       "8                9           0.0    157.0  1.0      0.0          2.0   0.0\n",
       "9               10           NaN      NaN  NaN      NaN          NaN   NaN"
      ]
     },
     "execution_count": 50,
     "metadata": {},
     "output_type": "execute_result"
    }
   ],
   "source": [
    "df_2019.head(10)"
   ]
  },
  {
   "cell_type": "code",
   "execution_count": 54,
   "metadata": {},
   "outputs": [
    {
     "data": {
      "text/plain": [
       "(9, 7)"
      ]
     },
     "execution_count": 54,
     "metadata": {},
     "output_type": "execute_result"
    }
   ],
   "source": [
    "df_2019 = df_2019.dropna(thresh=2)\n",
    "df_2019.shape"
   ]
  },
  {
   "cell_type": "markdown",
   "metadata": {},
   "source": [
    "## Process to clean data"
   ]
  },
  {
   "cell_type": "code",
   "execution_count": 101,
   "metadata": {},
   "outputs": [],
   "source": [
    "df_combined = pd.DataFrame()\n",
    "for key, value in weekly_disease.items():\n",
    "    year = int(key.split()[1])\n",
    "    if 'DHF' in value.columns:\n",
    "        df = value[['Epidemiology Wk', 'Dengue ', 'DHF', 'Malaria']]\n",
    "    else:\n",
    "        df = value[['Epidemiology Wk', 'Dengue Fever', 'Dengue Haemorrhagic Fever', 'Malaria']]\n",
    "        df = df.rename(index=str, columns={\"Dengue Fever\": \"Dengue \", \"Dengue Haemorrhagic Fever\": \"DHF\"})\n",
    "    df.dropna(thresh=3, inplace=True)\n",
    "    df['year'] = year\n",
    "    df_combined = pd.concat([df_combined,df], ignore_index=True)\n"
   ]
  },
  {
   "cell_type": "code",
   "execution_count": 102,
   "metadata": {},
   "outputs": [
    {
     "data": {
      "text/html": [
       "<div>\n",
       "<style scoped>\n",
       "    .dataframe tbody tr th:only-of-type {\n",
       "        vertical-align: middle;\n",
       "    }\n",
       "\n",
       "    .dataframe tbody tr th {\n",
       "        vertical-align: top;\n",
       "    }\n",
       "\n",
       "    .dataframe thead th {\n",
       "        text-align: right;\n",
       "    }\n",
       "</style>\n",
       "<table border=\"1\" class=\"dataframe\">\n",
       "  <thead>\n",
       "    <tr style=\"text-align: right;\">\n",
       "      <th></th>\n",
       "      <th>Epidemiology Wk</th>\n",
       "      <th>Dengue</th>\n",
       "      <th>DHF</th>\n",
       "      <th>Malaria</th>\n",
       "      <th>year</th>\n",
       "    </tr>\n",
       "  </thead>\n",
       "  <tbody>\n",
       "    <tr>\n",
       "      <th>0</th>\n",
       "      <td>1.0</td>\n",
       "      <td>205.0</td>\n",
       "      <td>2.0</td>\n",
       "      <td>1.0</td>\n",
       "      <td>2019</td>\n",
       "    </tr>\n",
       "    <tr>\n",
       "      <th>1</th>\n",
       "      <td>2.0</td>\n",
       "      <td>245.0</td>\n",
       "      <td>0.0</td>\n",
       "      <td>0.0</td>\n",
       "      <td>2019</td>\n",
       "    </tr>\n",
       "    <tr>\n",
       "      <th>2</th>\n",
       "      <td>3.0</td>\n",
       "      <td>207.0</td>\n",
       "      <td>8.0</td>\n",
       "      <td>3.0</td>\n",
       "      <td>2019</td>\n",
       "    </tr>\n",
       "    <tr>\n",
       "      <th>3</th>\n",
       "      <td>4.0</td>\n",
       "      <td>221.0</td>\n",
       "      <td>1.0</td>\n",
       "      <td>0.0</td>\n",
       "      <td>2019</td>\n",
       "    </tr>\n",
       "    <tr>\n",
       "      <th>4</th>\n",
       "      <td>5.0</td>\n",
       "      <td>179.0</td>\n",
       "      <td>3.0</td>\n",
       "      <td>1.0</td>\n",
       "      <td>2019</td>\n",
       "    </tr>\n",
       "  </tbody>\n",
       "</table>\n",
       "</div>"
      ],
      "text/plain": [
       "   Epidemiology Wk  Dengue   DHF  Malaria  year\n",
       "0              1.0    205.0  2.0      1.0  2019\n",
       "1              2.0    245.0  0.0      0.0  2019\n",
       "2              3.0    207.0  8.0      3.0  2019\n",
       "3              4.0    221.0  1.0      0.0  2019\n",
       "4              5.0    179.0  3.0      1.0  2019"
      ]
     },
     "execution_count": 102,
     "metadata": {},
     "output_type": "execute_result"
    }
   ],
   "source": [
    "df_combined.head()"
   ]
  },
  {
   "cell_type": "code",
   "execution_count": 103,
   "metadata": {},
   "outputs": [
    {
     "data": {
      "text/plain": [
       "(374, 5)"
      ]
     },
     "execution_count": 103,
     "metadata": {},
     "output_type": "execute_result"
    }
   ],
   "source": [
    "df_combined.shape"
   ]
  },
  {
   "cell_type": "code",
   "execution_count": 104,
   "metadata": {},
   "outputs": [],
   "source": [
    "df_combined.rename(str.strip, axis='columns', inplace=True)"
   ]
  },
  {
   "cell_type": "code",
   "execution_count": 105,
   "metadata": {},
   "outputs": [
    {
     "data": {
      "text/plain": [
       "Index(['Epidemiology Wk', 'Dengue', 'DHF', 'Malaria', 'year'], dtype='object')"
      ]
     },
     "execution_count": 105,
     "metadata": {},
     "output_type": "execute_result"
    }
   ],
   "source": [
    "df_combined.columns"
   ]
  },
  {
   "cell_type": "code",
   "execution_count": 106,
   "metadata": {},
   "outputs": [
    {
     "data": {
      "text/html": [
       "<div>\n",
       "<style scoped>\n",
       "    .dataframe tbody tr th:only-of-type {\n",
       "        vertical-align: middle;\n",
       "    }\n",
       "\n",
       "    .dataframe tbody tr th {\n",
       "        vertical-align: top;\n",
       "    }\n",
       "\n",
       "    .dataframe thead th {\n",
       "        text-align: right;\n",
       "    }\n",
       "</style>\n",
       "<table border=\"1\" class=\"dataframe\">\n",
       "  <thead>\n",
       "    <tr style=\"text-align: right;\">\n",
       "      <th></th>\n",
       "      <th>week</th>\n",
       "      <th>Dengue</th>\n",
       "      <th>DHF</th>\n",
       "      <th>Malaria</th>\n",
       "      <th>year</th>\n",
       "    </tr>\n",
       "  </thead>\n",
       "  <tbody>\n",
       "    <tr>\n",
       "      <th>0</th>\n",
       "      <td>1.0</td>\n",
       "      <td>205.0</td>\n",
       "      <td>2.0</td>\n",
       "      <td>1.0</td>\n",
       "      <td>2019</td>\n",
       "    </tr>\n",
       "    <tr>\n",
       "      <th>1</th>\n",
       "      <td>2.0</td>\n",
       "      <td>245.0</td>\n",
       "      <td>0.0</td>\n",
       "      <td>0.0</td>\n",
       "      <td>2019</td>\n",
       "    </tr>\n",
       "    <tr>\n",
       "      <th>2</th>\n",
       "      <td>3.0</td>\n",
       "      <td>207.0</td>\n",
       "      <td>8.0</td>\n",
       "      <td>3.0</td>\n",
       "      <td>2019</td>\n",
       "    </tr>\n",
       "    <tr>\n",
       "      <th>3</th>\n",
       "      <td>4.0</td>\n",
       "      <td>221.0</td>\n",
       "      <td>1.0</td>\n",
       "      <td>0.0</td>\n",
       "      <td>2019</td>\n",
       "    </tr>\n",
       "    <tr>\n",
       "      <th>4</th>\n",
       "      <td>5.0</td>\n",
       "      <td>179.0</td>\n",
       "      <td>3.0</td>\n",
       "      <td>1.0</td>\n",
       "      <td>2019</td>\n",
       "    </tr>\n",
       "  </tbody>\n",
       "</table>\n",
       "</div>"
      ],
      "text/plain": [
       "   week  Dengue  DHF  Malaria  year\n",
       "0   1.0   205.0  2.0      1.0  2019\n",
       "1   2.0   245.0  0.0      0.0  2019\n",
       "2   3.0   207.0  8.0      3.0  2019\n",
       "3   4.0   221.0  1.0      0.0  2019\n",
       "4   5.0   179.0  3.0      1.0  2019"
      ]
     },
     "execution_count": 106,
     "metadata": {},
     "output_type": "execute_result"
    }
   ],
   "source": [
    "df_combined = df_combined.rename(index=str, columns={\"Epidemiology Wk\": \"week\"})\n",
    "df_combined.head()"
   ]
  },
  {
   "cell_type": "code",
   "execution_count": 107,
   "metadata": {},
   "outputs": [],
   "source": [
    "df_combined.fillna(0, inplace=True)"
   ]
  },
  {
   "cell_type": "code",
   "execution_count": 109,
   "metadata": {},
   "outputs": [],
   "source": [
    "df_combined = df_combined.applymap(lambda x: int(x))"
   ]
  },
  {
   "cell_type": "code",
   "execution_count": 115,
   "metadata": {},
   "outputs": [],
   "source": [
    "df_combined['Dengue'] = df_combined['Dengue'] + df_combined['DHF']"
   ]
  },
  {
   "cell_type": "code",
   "execution_count": 117,
   "metadata": {},
   "outputs": [],
   "source": [
    "df_combined.drop('DHF', axis=1, inplace=True)"
   ]
  },
  {
   "cell_type": "code",
   "execution_count": 119,
   "metadata": {},
   "outputs": [
    {
     "data": {
      "text/html": [
       "<div>\n",
       "<style scoped>\n",
       "    .dataframe tbody tr th:only-of-type {\n",
       "        vertical-align: middle;\n",
       "    }\n",
       "\n",
       "    .dataframe tbody tr th {\n",
       "        vertical-align: top;\n",
       "    }\n",
       "\n",
       "    .dataframe thead th {\n",
       "        text-align: right;\n",
       "    }\n",
       "</style>\n",
       "<table border=\"1\" class=\"dataframe\">\n",
       "  <thead>\n",
       "    <tr style=\"text-align: right;\">\n",
       "      <th></th>\n",
       "      <th>year</th>\n",
       "      <th>week</th>\n",
       "      <th>Dengue</th>\n",
       "      <th>Malaria</th>\n",
       "    </tr>\n",
       "  </thead>\n",
       "  <tbody>\n",
       "    <tr>\n",
       "      <th>0</th>\n",
       "      <td>2019</td>\n",
       "      <td>1</td>\n",
       "      <td>207</td>\n",
       "      <td>1</td>\n",
       "    </tr>\n",
       "    <tr>\n",
       "      <th>1</th>\n",
       "      <td>2019</td>\n",
       "      <td>2</td>\n",
       "      <td>245</td>\n",
       "      <td>0</td>\n",
       "    </tr>\n",
       "    <tr>\n",
       "      <th>2</th>\n",
       "      <td>2019</td>\n",
       "      <td>3</td>\n",
       "      <td>215</td>\n",
       "      <td>3</td>\n",
       "    </tr>\n",
       "    <tr>\n",
       "      <th>3</th>\n",
       "      <td>2019</td>\n",
       "      <td>4</td>\n",
       "      <td>222</td>\n",
       "      <td>0</td>\n",
       "    </tr>\n",
       "    <tr>\n",
       "      <th>4</th>\n",
       "      <td>2019</td>\n",
       "      <td>5</td>\n",
       "      <td>182</td>\n",
       "      <td>1</td>\n",
       "    </tr>\n",
       "  </tbody>\n",
       "</table>\n",
       "</div>"
      ],
      "text/plain": [
       "   year  week  Dengue  Malaria\n",
       "0  2019     1     207        1\n",
       "1  2019     2     245        0\n",
       "2  2019     3     215        3\n",
       "3  2019     4     222        0\n",
       "4  2019     5     182        1"
      ]
     },
     "execution_count": 119,
     "metadata": {},
     "output_type": "execute_result"
    }
   ],
   "source": [
    "df_combined = df_combined[['year', 'week', 'Dengue', 'Malaria']]\n",
    "df_combined.head()"
   ]
  },
  {
   "cell_type": "code",
   "execution_count": 118,
   "metadata": {},
   "outputs": [
    {
     "data": {
      "text/plain": [
       "Index(['week', 'Dengue', 'Malaria', 'year'], dtype='object')"
      ]
     },
     "execution_count": 118,
     "metadata": {},
     "output_type": "execute_result"
    }
   ],
   "source": [
    "df_combined.columns"
   ]
  },
  {
   "cell_type": "code",
   "execution_count": 121,
   "metadata": {},
   "outputs": [
    {
     "name": "stdout",
     "output_type": "stream",
     "text": [
      "2012\n",
      "2019\n"
     ]
    }
   ],
   "source": [
    "print(df_combined['year'].min())\n",
    "print(df_combined['year'].max())"
   ]
  },
  {
   "cell_type": "markdown",
   "metadata": {},
   "source": [
    "# Weather\n",
    "Convert weather data into weekly data."
   ]
  },
  {
   "cell_type": "code",
   "execution_count": 152,
   "metadata": {},
   "outputs": [],
   "source": [
    "import os\n",
    "import numpy as np"
   ]
  },
  {
   "cell_type": "code",
   "execution_count": 147,
   "metadata": {},
   "outputs": [],
   "source": [
    "INPUT_DIR = '../data/raw/weather_SG'"
   ]
  },
  {
   "cell_type": "code",
   "execution_count": 134,
   "metadata": {},
   "outputs": [],
   "source": [
    "files = os.listdir(INPUT_DIR)"
   ]
  },
  {
   "cell_type": "code",
   "execution_count": 135,
   "metadata": {},
   "outputs": [
    {
     "data": {
      "text/plain": [
       "['S115_201601.csv', 'S108_201308.csv', 'S104_201603.csv']"
      ]
     },
     "execution_count": 135,
     "metadata": {},
     "output_type": "execute_result"
    }
   ],
   "source": [
    "files[:3]"
   ]
  },
  {
   "cell_type": "code",
   "execution_count": 136,
   "metadata": {},
   "outputs": [],
   "source": [
    "stations = [x.split('_')[0] for x in files]"
   ]
  },
  {
   "cell_type": "code",
   "execution_count": 138,
   "metadata": {},
   "outputs": [],
   "source": [
    "stations = list(set(stations))"
   ]
  },
  {
   "cell_type": "code",
   "execution_count": 139,
   "metadata": {},
   "outputs": [
    {
     "data": {
      "text/plain": [
       "['S43',\n",
       " 'S115',\n",
       " 'S24',\n",
       " 'S107',\n",
       " 'S108',\n",
       " 'S86',\n",
       " 'S60',\n",
       " 'S44',\n",
       " 'S106',\n",
       " 'S104',\n",
       " 'S109',\n",
       " 'S102',\n",
       " 'S50',\n",
       " 'S25',\n",
       " 'S80',\n",
       " 'S111',\n",
       " 'S23']"
      ]
     },
     "execution_count": 139,
     "metadata": {},
     "output_type": "execute_result"
    }
   ],
   "source": [
    "stations"
   ]
  },
  {
   "cell_type": "code",
   "execution_count": 140,
   "metadata": {},
   "outputs": [
    {
     "data": {
      "text/plain": [
       "17"
      ]
     },
     "execution_count": 140,
     "metadata": {},
     "output_type": "execute_result"
    }
   ],
   "source": [
    "len(stations)"
   ]
  },
  {
   "cell_type": "code",
   "execution_count": 142,
   "metadata": {},
   "outputs": [
    {
     "data": {
      "text/plain": [
       "86"
      ]
     },
     "execution_count": 142,
     "metadata": {},
     "output_type": "execute_result"
    }
   ],
   "source": [
    "station_files = [x for x in files if x.startswith('S23')]\n",
    "len(station_files)"
   ]
  },
  {
   "cell_type": "code",
   "execution_count": 144,
   "metadata": {},
   "outputs": [],
   "source": [
    "station_files.sort()"
   ]
  },
  {
   "cell_type": "code",
   "execution_count": null,
   "metadata": {},
   "outputs": [],
   "source": [
    "for filename in station_files:\n",
    "    "
   ]
  },
  {
   "cell_type": "code",
   "execution_count": 150,
   "metadata": {},
   "outputs": [],
   "source": [
    "file_path = os.path.join(INPUT_DIR, 'S23_201201.csv')\n",
    "dfWeather = pd.read_csv(file_path,encoding='latin1')"
   ]
  },
  {
   "cell_type": "code",
   "execution_count": 156,
   "metadata": {},
   "outputs": [
    {
     "data": {
      "text/plain": [
       "Index(['Station', 'Year', 'Month', 'Day', 'Daily Rainfall Total (mm)',\n",
       "       'Highest 30 Min Rainfall (mm)', 'Highest 60 Min Rainfall (mm)',\n",
       "       'Highest 120 Min Rainfall (mm)', 'Mean Temperature (°C)',\n",
       "       'Maximum Temperature (°C)', 'Minimum Temperature (°C)',\n",
       "       'Mean Wind Speed (km/h)', 'Max Wind Speed (km/h)'],\n",
       "      dtype='object')"
      ]
     },
     "execution_count": 156,
     "metadata": {},
     "output_type": "execute_result"
    }
   ],
   "source": [
    "dfWeather.columns"
   ]
  },
  {
   "cell_type": "code",
   "execution_count": 169,
   "metadata": {},
   "outputs": [],
   "source": [
    "dfWeather = dfWeather.rename(index=str, columns=dict_rename)"
   ]
  },
  {
   "cell_type": "code",
   "execution_count": 202,
   "metadata": {},
   "outputs": [
    {
     "data": {
      "text/html": [
       "<div>\n",
       "<style scoped>\n",
       "    .dataframe tbody tr th:only-of-type {\n",
       "        vertical-align: middle;\n",
       "    }\n",
       "\n",
       "    .dataframe tbody tr th {\n",
       "        vertical-align: top;\n",
       "    }\n",
       "\n",
       "    .dataframe thead th {\n",
       "        text-align: right;\n",
       "    }\n",
       "</style>\n",
       "<table border=\"1\" class=\"dataframe\">\n",
       "  <thead>\n",
       "    <tr style=\"text-align: right;\">\n",
       "      <th></th>\n",
       "      <th>location</th>\n",
       "      <th>year</th>\n",
       "      <th>month</th>\n",
       "      <th>day</th>\n",
       "      <th>Rainfall Total</th>\n",
       "      <th>Max 30Min Rainfall</th>\n",
       "      <th>Max 60Min Rainfall</th>\n",
       "      <th>Max 120Min Rainfall</th>\n",
       "      <th>Mean Temperature</th>\n",
       "      <th>Max Temperature</th>\n",
       "      <th>Min Temperature</th>\n",
       "      <th>Mean Wind Speed</th>\n",
       "      <th>Max Wind Speed</th>\n",
       "    </tr>\n",
       "  </thead>\n",
       "  <tbody>\n",
       "    <tr>\n",
       "      <th>0</th>\n",
       "      <td>Tengah</td>\n",
       "      <td>2012</td>\n",
       "      <td>1</td>\n",
       "      <td>1</td>\n",
       "      <td>0.0</td>\n",
       "      <td>NaN</td>\n",
       "      <td>NaN</td>\n",
       "      <td>NaN</td>\n",
       "      <td>27.8</td>\n",
       "      <td>33.4</td>\n",
       "      <td>24.5</td>\n",
       "      <td>7.8</td>\n",
       "      <td>22.3</td>\n",
       "    </tr>\n",
       "    <tr>\n",
       "      <th>1</th>\n",
       "      <td>Tengah</td>\n",
       "      <td>2012</td>\n",
       "      <td>1</td>\n",
       "      <td>2</td>\n",
       "      <td>2.6</td>\n",
       "      <td>NaN</td>\n",
       "      <td>NaN</td>\n",
       "      <td>NaN</td>\n",
       "      <td>27.5</td>\n",
       "      <td>32.6</td>\n",
       "      <td>24.9</td>\n",
       "      <td>13.7</td>\n",
       "      <td>29.5</td>\n",
       "    </tr>\n",
       "    <tr>\n",
       "      <th>2</th>\n",
       "      <td>Tengah</td>\n",
       "      <td>2012</td>\n",
       "      <td>1</td>\n",
       "      <td>3</td>\n",
       "      <td>0.0</td>\n",
       "      <td>NaN</td>\n",
       "      <td>NaN</td>\n",
       "      <td>NaN</td>\n",
       "      <td>27.4</td>\n",
       "      <td>31.7</td>\n",
       "      <td>23.6</td>\n",
       "      <td>16.2</td>\n",
       "      <td>35.3</td>\n",
       "    </tr>\n",
       "    <tr>\n",
       "      <th>3</th>\n",
       "      <td>Tengah</td>\n",
       "      <td>2012</td>\n",
       "      <td>1</td>\n",
       "      <td>4</td>\n",
       "      <td>0.0</td>\n",
       "      <td>NaN</td>\n",
       "      <td>NaN</td>\n",
       "      <td>NaN</td>\n",
       "      <td>27.4</td>\n",
       "      <td>32.2</td>\n",
       "      <td>23.3</td>\n",
       "      <td>14.9</td>\n",
       "      <td>35.3</td>\n",
       "    </tr>\n",
       "    <tr>\n",
       "      <th>4</th>\n",
       "      <td>Tengah</td>\n",
       "      <td>2012</td>\n",
       "      <td>1</td>\n",
       "      <td>5</td>\n",
       "      <td>0.0</td>\n",
       "      <td>NaN</td>\n",
       "      <td>NaN</td>\n",
       "      <td>NaN</td>\n",
       "      <td>NaN</td>\n",
       "      <td>32.2</td>\n",
       "      <td>23.0</td>\n",
       "      <td>14.7</td>\n",
       "      <td>37.1</td>\n",
       "    </tr>\n",
       "  </tbody>\n",
       "</table>\n",
       "</div>"
      ],
      "text/plain": [
       "  location  year  month  day  Rainfall Total  Max 30Min Rainfall  \\\n",
       "0   Tengah  2012      1    1             0.0                 NaN   \n",
       "1   Tengah  2012      1    2             2.6                 NaN   \n",
       "2   Tengah  2012      1    3             0.0                 NaN   \n",
       "3   Tengah  2012      1    4             0.0                 NaN   \n",
       "4   Tengah  2012      1    5             0.0                 NaN   \n",
       "\n",
       "   Max 60Min Rainfall  Max 120Min Rainfall  Mean Temperature  Max Temperature  \\\n",
       "0                 NaN                  NaN              27.8             33.4   \n",
       "1                 NaN                  NaN              27.5             32.6   \n",
       "2                 NaN                  NaN              27.4             31.7   \n",
       "3                 NaN                  NaN              27.4             32.2   \n",
       "4                 NaN                  NaN               NaN             32.2   \n",
       "\n",
       "   Min Temperature  Mean Wind Speed  Max Wind Speed  \n",
       "0             24.5              7.8            22.3  \n",
       "1             24.9             13.7            29.5  \n",
       "2             23.6             16.2            35.3  \n",
       "3             23.3             14.9            35.3  \n",
       "4             23.0             14.7            37.1  "
      ]
     },
     "execution_count": 202,
     "metadata": {},
     "output_type": "execute_result"
    }
   ],
   "source": [
    "col_numeric = ['year', 'month', 'day', 'Rainfall Total',\n",
    "       'Max 30Min Rainfall', 'Max 60Min Rainfall',\n",
    "       'Max 120Min Rainfall', 'Mean Temperature',\n",
    "       'Max Temperature', 'Min Temperature',\n",
    "       'Mean Wind Speed', 'Max Wind Speed']\n",
    "for col in col_numeric:\n",
    "    dfWeather[col] = pd.to_numeric(dfWeather[col], errors='coerce')\n",
    "dfWeather.head()"
   ]
  },
  {
   "cell_type": "code",
   "execution_count": 168,
   "metadata": {},
   "outputs": [],
   "source": [
    "dict_rename={'Station':'location', \n",
    "             'Year':'year', 'Month':'month', 'Day':'day', \n",
    "             'Daily Rainfall Total (mm)':'Rainfall Total',\n",
    "             'Highest 30 Min Rainfall (mm)':'Max 30Min Rainfall', \n",
    "             'Highest 60 Min Rainfall (mm)':'Max 60Min Rainfall',\n",
    "             'Highest 120 Min Rainfall (mm)':'Max 120Min Rainfall', \n",
    "             'Mean Temperature (°C)':'Mean Temperature',\n",
    "             'Maximum Temperature (°C)':'Max Temperature', \n",
    "             'Minimum Temperature (°C)':'Min Temperature',\n",
    "             'Mean Wind Speed (km/h)':'Mean Wind Speed', \n",
    "             'Max Wind Speed (km/h)':'Max Wind Speed'}\n",
    "col_rename = ['location', 'year', 'month', 'day', 'Rainfall Total',\n",
    "       'Max 30Min Rainfall', 'Max 60Min Rainfall',\n",
    "       'Max 120Min Rainfall', 'Mean Temperature',\n",
    "       'Max Temperature', 'Min Temperature',\n",
    "       'Mean Wind Speed', 'Max Wind Speed']"
   ]
  },
  {
   "cell_type": "code",
   "execution_count": 206,
   "metadata": {},
   "outputs": [],
   "source": [
    "logic = {\n",
    "#    'location' : 'first', \n",
    "#    'year' : 'first', \n",
    "#    'month' : 'first',\n",
    "#    'day' : 'first', \n",
    "    'Rainfall Total' : 'sum',\n",
    "    'Max 30Min Rainfall' : 'max', \n",
    "    'Max 60Min Rainfall' : 'max',\n",
    "    'Max 120Min Rainfall' : 'max', \n",
    "    'Mean Temperature' : 'mean',\n",
    "    'Max Temperature' : 'max', \n",
    "    'Min Temperature' : 'min',\n",
    "    'Mean Wind Speed' : 'mean', \n",
    "    'Max Wind Speed' : 'max'\n",
    "}"
   ]
  },
  {
   "cell_type": "code",
   "execution_count": 203,
   "metadata": {},
   "outputs": [
    {
     "name": "stdout",
     "output_type": "stream",
     "text": [
      "28\n"
     ]
    }
   ],
   "source": [
    "dfWeeklyWeather = pd.DataFrame(columns=col_rename)\n",
    "for i in range(int(len(dfWeather)/7)):\n",
    "    df = dfWeather[i*7:i*7+7]\n",
    "    #print(df)\n",
    "    next_idx = i*7+7\n",
    "    \n",
    "print(next_idx)"
   ]
  },
  {
   "cell_type": "code",
   "execution_count": 204,
   "metadata": {},
   "outputs": [
    {
     "data": {
      "text/html": [
       "<div>\n",
       "<style scoped>\n",
       "    .dataframe tbody tr th:only-of-type {\n",
       "        vertical-align: middle;\n",
       "    }\n",
       "\n",
       "    .dataframe tbody tr th {\n",
       "        vertical-align: top;\n",
       "    }\n",
       "\n",
       "    .dataframe thead th {\n",
       "        text-align: right;\n",
       "    }\n",
       "</style>\n",
       "<table border=\"1\" class=\"dataframe\">\n",
       "  <thead>\n",
       "    <tr style=\"text-align: right;\">\n",
       "      <th></th>\n",
       "      <th>location</th>\n",
       "      <th>year</th>\n",
       "      <th>month</th>\n",
       "      <th>day</th>\n",
       "      <th>Rainfall Total</th>\n",
       "      <th>Max 30Min Rainfall</th>\n",
       "      <th>Max 60Min Rainfall</th>\n",
       "      <th>Max 120Min Rainfall</th>\n",
       "      <th>Mean Temperature</th>\n",
       "      <th>Max Temperature</th>\n",
       "      <th>Min Temperature</th>\n",
       "      <th>Mean Wind Speed</th>\n",
       "      <th>Max Wind Speed</th>\n",
       "    </tr>\n",
       "  </thead>\n",
       "  <tbody>\n",
       "    <tr>\n",
       "      <th>21</th>\n",
       "      <td>Tengah</td>\n",
       "      <td>2012</td>\n",
       "      <td>1</td>\n",
       "      <td>22</td>\n",
       "      <td>21.3</td>\n",
       "      <td>NaN</td>\n",
       "      <td>NaN</td>\n",
       "      <td>NaN</td>\n",
       "      <td>26.3</td>\n",
       "      <td>31.8</td>\n",
       "      <td>23.1</td>\n",
       "      <td>9.5</td>\n",
       "      <td>29.5</td>\n",
       "    </tr>\n",
       "    <tr>\n",
       "      <th>22</th>\n",
       "      <td>Tengah</td>\n",
       "      <td>2012</td>\n",
       "      <td>1</td>\n",
       "      <td>23</td>\n",
       "      <td>1.8</td>\n",
       "      <td>NaN</td>\n",
       "      <td>NaN</td>\n",
       "      <td>NaN</td>\n",
       "      <td>24.9</td>\n",
       "      <td>31.3</td>\n",
       "      <td>22.0</td>\n",
       "      <td>9.7</td>\n",
       "      <td>35.3</td>\n",
       "    </tr>\n",
       "    <tr>\n",
       "      <th>23</th>\n",
       "      <td>Tengah</td>\n",
       "      <td>2012</td>\n",
       "      <td>1</td>\n",
       "      <td>24</td>\n",
       "      <td>0.0</td>\n",
       "      <td>NaN</td>\n",
       "      <td>NaN</td>\n",
       "      <td>NaN</td>\n",
       "      <td>NaN</td>\n",
       "      <td>30.8</td>\n",
       "      <td>22.7</td>\n",
       "      <td>14.4</td>\n",
       "      <td>37.1</td>\n",
       "    </tr>\n",
       "    <tr>\n",
       "      <th>24</th>\n",
       "      <td>Tengah</td>\n",
       "      <td>2012</td>\n",
       "      <td>1</td>\n",
       "      <td>25</td>\n",
       "      <td>0.0</td>\n",
       "      <td>NaN</td>\n",
       "      <td>NaN</td>\n",
       "      <td>NaN</td>\n",
       "      <td>NaN</td>\n",
       "      <td>32.2</td>\n",
       "      <td>23.4</td>\n",
       "      <td>15.9</td>\n",
       "      <td>37.1</td>\n",
       "    </tr>\n",
       "    <tr>\n",
       "      <th>25</th>\n",
       "      <td>Tengah</td>\n",
       "      <td>2012</td>\n",
       "      <td>1</td>\n",
       "      <td>26</td>\n",
       "      <td>0.0</td>\n",
       "      <td>NaN</td>\n",
       "      <td>NaN</td>\n",
       "      <td>NaN</td>\n",
       "      <td>26.9</td>\n",
       "      <td>30.9</td>\n",
       "      <td>23.3</td>\n",
       "      <td>16.3</td>\n",
       "      <td>37.1</td>\n",
       "    </tr>\n",
       "    <tr>\n",
       "      <th>26</th>\n",
       "      <td>Tengah</td>\n",
       "      <td>2012</td>\n",
       "      <td>1</td>\n",
       "      <td>27</td>\n",
       "      <td>9.7</td>\n",
       "      <td>NaN</td>\n",
       "      <td>NaN</td>\n",
       "      <td>NaN</td>\n",
       "      <td>26.2</td>\n",
       "      <td>32.7</td>\n",
       "      <td>23.1</td>\n",
       "      <td>12.1</td>\n",
       "      <td>37.1</td>\n",
       "    </tr>\n",
       "    <tr>\n",
       "      <th>27</th>\n",
       "      <td>Tengah</td>\n",
       "      <td>2012</td>\n",
       "      <td>1</td>\n",
       "      <td>28</td>\n",
       "      <td>0.0</td>\n",
       "      <td>NaN</td>\n",
       "      <td>NaN</td>\n",
       "      <td>NaN</td>\n",
       "      <td>NaN</td>\n",
       "      <td>29.0</td>\n",
       "      <td>23.7</td>\n",
       "      <td>11.1</td>\n",
       "      <td>29.5</td>\n",
       "    </tr>\n",
       "  </tbody>\n",
       "</table>\n",
       "</div>"
      ],
      "text/plain": [
       "   location  year  month  day  Rainfall Total  Max 30Min Rainfall  \\\n",
       "21   Tengah  2012      1   22            21.3                 NaN   \n",
       "22   Tengah  2012      1   23             1.8                 NaN   \n",
       "23   Tengah  2012      1   24             0.0                 NaN   \n",
       "24   Tengah  2012      1   25             0.0                 NaN   \n",
       "25   Tengah  2012      1   26             0.0                 NaN   \n",
       "26   Tengah  2012      1   27             9.7                 NaN   \n",
       "27   Tengah  2012      1   28             0.0                 NaN   \n",
       "\n",
       "    Max 60Min Rainfall  Max 120Min Rainfall  Mean Temperature  \\\n",
       "21                 NaN                  NaN              26.3   \n",
       "22                 NaN                  NaN              24.9   \n",
       "23                 NaN                  NaN               NaN   \n",
       "24                 NaN                  NaN               NaN   \n",
       "25                 NaN                  NaN              26.9   \n",
       "26                 NaN                  NaN              26.2   \n",
       "27                 NaN                  NaN               NaN   \n",
       "\n",
       "    Max Temperature  Min Temperature  Mean Wind Speed  Max Wind Speed  \n",
       "21             31.8             23.1              9.5            29.5  \n",
       "22             31.3             22.0              9.7            35.3  \n",
       "23             30.8             22.7             14.4            37.1  \n",
       "24             32.2             23.4             15.9            37.1  \n",
       "25             30.9             23.3             16.3            37.1  \n",
       "26             32.7             23.1             12.1            37.1  \n",
       "27             29.0             23.7             11.1            29.5  "
      ]
     },
     "execution_count": 204,
     "metadata": {},
     "output_type": "execute_result"
    }
   ],
   "source": [
    "df"
   ]
  },
  {
   "cell_type": "code",
   "execution_count": 208,
   "metadata": {},
   "outputs": [
    {
     "data": {
      "text/plain": [
       "Rainfall Total         32.800000\n",
       "Max 30Min Rainfall           NaN\n",
       "Max 60Min Rainfall           NaN\n",
       "Max 120Min Rainfall          NaN\n",
       "Mean Temperature       26.075000\n",
       "Max Temperature        32.700000\n",
       "Min Temperature        22.000000\n",
       "Mean Wind Speed        12.714286\n",
       "Max Wind Speed         37.100000\n",
       "dtype: float64"
      ]
     },
     "execution_count": 208,
     "metadata": {},
     "output_type": "execute_result"
    }
   ],
   "source": [
    "week_data = df.agg(logic)\n",
    "week_data"
   ]
  },
  {
   "cell_type": "code",
   "execution_count": 210,
   "metadata": {},
   "outputs": [
    {
     "data": {
      "text/plain": [
       "location                Tengah\n",
       "year                      2012\n",
       "week                         6\n",
       "Rainfall Total            32.8\n",
       "Max 30Min Rainfall         NaN\n",
       "Max 60Min Rainfall         NaN\n",
       "Max 120Min Rainfall        NaN\n",
       "Mean Temperature        26.075\n",
       "Max Temperature           32.7\n",
       "Min Temperature             22\n",
       "Mean Wind Speed        12.7143\n",
       "Max Wind Speed            37.1\n",
       "dtype: object"
      ]
     },
     "execution_count": 210,
     "metadata": {},
     "output_type": "execute_result"
    }
   ],
   "source": [
    "pd.Series(['Tengah', 2012, 6], index=['location','year','week']).append(week_data)"
   ]
  },
  {
   "cell_type": "code",
   "execution_count": 212,
   "metadata": {},
   "outputs": [
    {
     "data": {
      "text/plain": [
       "2012"
      ]
     },
     "execution_count": 212,
     "metadata": {},
     "output_type": "execute_result"
    }
   ],
   "source": [
    "df.iloc[0]['year']"
   ]
  },
  {
   "cell_type": "code",
   "execution_count": 227,
   "metadata": {},
   "outputs": [
    {
     "name": "stdout",
     "output_type": "stream",
     "text": [
      "0 2012\n",
      "2012 2013\n",
      "2013 2014\n",
      "2014 2015\n",
      "2015 2016\n",
      "2016 2017\n",
      "2017 2018\n",
      "2018 2019\n"
     ]
    }
   ],
   "source": [
    "dfWeeklyWeather = pd.DataFrame(columns=col_rename)\n",
    "dfRemain = pd.DataFrame(columns=col_rename)\n",
    "year = 0\n",
    "week = 0\n",
    "for filename in station_files:\n",
    "    # get monthly data, read file\n",
    "    file_path = os.path.join(INPUT_DIR, filename)\n",
    "    dfMonth = pd.read_csv(file_path,encoding='latin1')\n",
    "    dfMonth = dfMonth.rename(index=str, columns=dict_rename)\n",
    "    # prepare data\n",
    "    for col in col_numeric:\n",
    "        dfMonth[col] = pd.to_numeric(dfMonth[col], errors='coerce')\n",
    "    if dfMonth.iloc[0]['year'] != year:\n",
    "        print(year,dfMonth.iloc[0]['year'])\n",
    "        year = dfMonth.iloc[0]['year']\n",
    "        week = 1\n",
    "    if (len(dfRemain) > 0) and (len(dfRemain) < 7):\n",
    "        dfMonth = dfRemain.append(dfMonth, ignore_index=True)\n",
    "    else:\n",
    "        if(len(dfRemain) > 7):\n",
    "            print(dfRemain)\n",
    "    # aggregate weekly data \n",
    "    for i in range(int(len(dfMonth)/7)):\n",
    "        df = dfMonth[i*7:i*7+7]\n",
    "        next_idx = i*7+7\n",
    "        week_data = df.agg(logic)\n",
    "        week_s = pd.Series([df.iloc[0]['location'], df.iloc[0]['year'], df.iloc[0]['month'], df.iloc[0]['day'], week], \n",
    "                           index=['location','year','month','day','week']).append(week_data)\n",
    "        dfWeeklyWeather = dfWeeklyWeather.append(week_s, ignore_index=True)\n",
    "        week += 1\n",
    "    dfRemain = dfMonth[next_idx:]"
   ]
  },
  {
   "cell_type": "code",
   "execution_count": 232,
   "metadata": {},
   "outputs": [
    {
     "data": {
      "text/html": [
       "<div>\n",
       "<style scoped>\n",
       "    .dataframe tbody tr th:only-of-type {\n",
       "        vertical-align: middle;\n",
       "    }\n",
       "\n",
       "    .dataframe tbody tr th {\n",
       "        vertical-align: top;\n",
       "    }\n",
       "\n",
       "    .dataframe thead th {\n",
       "        text-align: right;\n",
       "    }\n",
       "</style>\n",
       "<table border=\"1\" class=\"dataframe\">\n",
       "  <thead>\n",
       "    <tr style=\"text-align: right;\">\n",
       "      <th></th>\n",
       "      <th>location</th>\n",
       "      <th>year</th>\n",
       "      <th>month</th>\n",
       "      <th>day</th>\n",
       "      <th>Rainfall Total</th>\n",
       "      <th>Max 30Min Rainfall</th>\n",
       "      <th>Max 60Min Rainfall</th>\n",
       "      <th>Max 120Min Rainfall</th>\n",
       "      <th>Mean Temperature</th>\n",
       "      <th>Max Temperature</th>\n",
       "      <th>Min Temperature</th>\n",
       "      <th>Mean Wind Speed</th>\n",
       "      <th>Max Wind Speed</th>\n",
       "      <th>week</th>\n",
       "    </tr>\n",
       "  </thead>\n",
       "  <tbody>\n",
       "    <tr>\n",
       "      <th>0</th>\n",
       "      <td>Tengah</td>\n",
       "      <td>2012</td>\n",
       "      <td>1</td>\n",
       "      <td>1</td>\n",
       "      <td>2.6</td>\n",
       "      <td>NaN</td>\n",
       "      <td>NaN</td>\n",
       "      <td>NaN</td>\n",
       "      <td>27.525000</td>\n",
       "      <td>33.4</td>\n",
       "      <td>23.0</td>\n",
       "      <td>14.628571</td>\n",
       "      <td>46.4</td>\n",
       "      <td>1.0</td>\n",
       "    </tr>\n",
       "    <tr>\n",
       "      <th>1</th>\n",
       "      <td>Tengah</td>\n",
       "      <td>2012</td>\n",
       "      <td>1</td>\n",
       "      <td>8</td>\n",
       "      <td>32.2</td>\n",
       "      <td>NaN</td>\n",
       "      <td>NaN</td>\n",
       "      <td>NaN</td>\n",
       "      <td>25.800000</td>\n",
       "      <td>33.7</td>\n",
       "      <td>22.1</td>\n",
       "      <td>12.014286</td>\n",
       "      <td>44.3</td>\n",
       "      <td>2.0</td>\n",
       "    </tr>\n",
       "    <tr>\n",
       "      <th>2</th>\n",
       "      <td>Tengah</td>\n",
       "      <td>2012</td>\n",
       "      <td>1</td>\n",
       "      <td>15</td>\n",
       "      <td>70.7</td>\n",
       "      <td>NaN</td>\n",
       "      <td>NaN</td>\n",
       "      <td>NaN</td>\n",
       "      <td>27.350000</td>\n",
       "      <td>34.4</td>\n",
       "      <td>22.5</td>\n",
       "      <td>7.628571</td>\n",
       "      <td>40.7</td>\n",
       "      <td>3.0</td>\n",
       "    </tr>\n",
       "    <tr>\n",
       "      <th>3</th>\n",
       "      <td>Tengah</td>\n",
       "      <td>2012</td>\n",
       "      <td>1</td>\n",
       "      <td>22</td>\n",
       "      <td>32.8</td>\n",
       "      <td>NaN</td>\n",
       "      <td>NaN</td>\n",
       "      <td>NaN</td>\n",
       "      <td>26.075000</td>\n",
       "      <td>32.7</td>\n",
       "      <td>22.0</td>\n",
       "      <td>12.714286</td>\n",
       "      <td>37.1</td>\n",
       "      <td>4.0</td>\n",
       "    </tr>\n",
       "    <tr>\n",
       "      <th>4</th>\n",
       "      <td>Tengah</td>\n",
       "      <td>2012</td>\n",
       "      <td>1</td>\n",
       "      <td>29</td>\n",
       "      <td>50.8</td>\n",
       "      <td>NaN</td>\n",
       "      <td>NaN</td>\n",
       "      <td>NaN</td>\n",
       "      <td>26.357143</td>\n",
       "      <td>32.8</td>\n",
       "      <td>22.8</td>\n",
       "      <td>11.100000</td>\n",
       "      <td>37.1</td>\n",
       "      <td>5.0</td>\n",
       "    </tr>\n",
       "  </tbody>\n",
       "</table>\n",
       "</div>"
      ],
      "text/plain": [
       "  location  year month day  Rainfall Total  Max 30Min Rainfall  \\\n",
       "0   Tengah  2012     1   1             2.6                 NaN   \n",
       "1   Tengah  2012     1   8            32.2                 NaN   \n",
       "2   Tengah  2012     1  15            70.7                 NaN   \n",
       "3   Tengah  2012     1  22            32.8                 NaN   \n",
       "4   Tengah  2012     1  29            50.8                 NaN   \n",
       "\n",
       "   Max 60Min Rainfall  Max 120Min Rainfall  Mean Temperature  Max Temperature  \\\n",
       "0                 NaN                  NaN         27.525000             33.4   \n",
       "1                 NaN                  NaN         25.800000             33.7   \n",
       "2                 NaN                  NaN         27.350000             34.4   \n",
       "3                 NaN                  NaN         26.075000             32.7   \n",
       "4                 NaN                  NaN         26.357143             32.8   \n",
       "\n",
       "   Min Temperature  Mean Wind Speed  Max Wind Speed  week  \n",
       "0             23.0        14.628571            46.4   1.0  \n",
       "1             22.1        12.014286            44.3   2.0  \n",
       "2             22.5         7.628571            40.7   3.0  \n",
       "3             22.0        12.714286            37.1   4.0  \n",
       "4             22.8        11.100000            37.1   5.0  "
      ]
     },
     "execution_count": 232,
     "metadata": {},
     "output_type": "execute_result"
    }
   ],
   "source": [
    "dfWeeklyWeather.head()"
   ]
  },
  {
   "cell_type": "code",
   "execution_count": 231,
   "metadata": {},
   "outputs": [
    {
     "data": {
      "text/html": [
       "<div>\n",
       "<style scoped>\n",
       "    .dataframe tbody tr th:only-of-type {\n",
       "        vertical-align: middle;\n",
       "    }\n",
       "\n",
       "    .dataframe tbody tr th {\n",
       "        vertical-align: top;\n",
       "    }\n",
       "\n",
       "    .dataframe thead th {\n",
       "        text-align: right;\n",
       "    }\n",
       "</style>\n",
       "<table border=\"1\" class=\"dataframe\">\n",
       "  <thead>\n",
       "    <tr style=\"text-align: right;\">\n",
       "      <th></th>\n",
       "      <th>Rainfall Total</th>\n",
       "      <th>Max 30Min Rainfall</th>\n",
       "      <th>Max 60Min Rainfall</th>\n",
       "      <th>Max 120Min Rainfall</th>\n",
       "      <th>Mean Temperature</th>\n",
       "      <th>Max Temperature</th>\n",
       "      <th>Min Temperature</th>\n",
       "      <th>Mean Wind Speed</th>\n",
       "      <th>Max Wind Speed</th>\n",
       "      <th>week</th>\n",
       "    </tr>\n",
       "  </thead>\n",
       "  <tbody>\n",
       "    <tr>\n",
       "      <th>count</th>\n",
       "      <td>373.000000</td>\n",
       "      <td>0.0</td>\n",
       "      <td>0.0</td>\n",
       "      <td>0.0</td>\n",
       "      <td>270.000000</td>\n",
       "      <td>373.000000</td>\n",
       "      <td>373.000000</td>\n",
       "      <td>373.000000</td>\n",
       "      <td>373.000000</td>\n",
       "      <td>373.000000</td>\n",
       "    </tr>\n",
       "    <tr>\n",
       "      <th>mean</th>\n",
       "      <td>51.947453</td>\n",
       "      <td>NaN</td>\n",
       "      <td>NaN</td>\n",
       "      <td>NaN</td>\n",
       "      <td>27.566989</td>\n",
       "      <td>33.942359</td>\n",
       "      <td>22.780965</td>\n",
       "      <td>9.357277</td>\n",
       "      <td>43.629223</td>\n",
       "      <td>26.099196</td>\n",
       "    </tr>\n",
       "    <tr>\n",
       "      <th>std</th>\n",
       "      <td>43.016111</td>\n",
       "      <td>NaN</td>\n",
       "      <td>NaN</td>\n",
       "      <td>NaN</td>\n",
       "      <td>0.835618</td>\n",
       "      <td>0.896305</td>\n",
       "      <td>2.200596</td>\n",
       "      <td>2.535895</td>\n",
       "      <td>9.555620</td>\n",
       "      <td>15.253003</td>\n",
       "    </tr>\n",
       "    <tr>\n",
       "      <th>min</th>\n",
       "      <td>0.000000</td>\n",
       "      <td>NaN</td>\n",
       "      <td>NaN</td>\n",
       "      <td>NaN</td>\n",
       "      <td>25.442857</td>\n",
       "      <td>30.600000</td>\n",
       "      <td>0.000000</td>\n",
       "      <td>3.900000</td>\n",
       "      <td>20.500000</td>\n",
       "      <td>1.000000</td>\n",
       "    </tr>\n",
       "    <tr>\n",
       "      <th>25%</th>\n",
       "      <td>16.000000</td>\n",
       "      <td>NaN</td>\n",
       "      <td>NaN</td>\n",
       "      <td>NaN</td>\n",
       "      <td>27.032143</td>\n",
       "      <td>33.400000</td>\n",
       "      <td>22.400000</td>\n",
       "      <td>7.614286</td>\n",
       "      <td>37.100000</td>\n",
       "      <td>13.000000</td>\n",
       "    </tr>\n",
       "    <tr>\n",
       "      <th>50%</th>\n",
       "      <td>45.200000</td>\n",
       "      <td>NaN</td>\n",
       "      <td>NaN</td>\n",
       "      <td>NaN</td>\n",
       "      <td>27.580000</td>\n",
       "      <td>33.900000</td>\n",
       "      <td>23.000000</td>\n",
       "      <td>8.742857</td>\n",
       "      <td>42.500000</td>\n",
       "      <td>26.000000</td>\n",
       "    </tr>\n",
       "    <tr>\n",
       "      <th>75%</th>\n",
       "      <td>78.100000</td>\n",
       "      <td>NaN</td>\n",
       "      <td>NaN</td>\n",
       "      <td>NaN</td>\n",
       "      <td>28.110714</td>\n",
       "      <td>34.600000</td>\n",
       "      <td>23.500000</td>\n",
       "      <td>10.400000</td>\n",
       "      <td>48.200000</td>\n",
       "      <td>39.000000</td>\n",
       "    </tr>\n",
       "    <tr>\n",
       "      <th>max</th>\n",
       "      <td>215.200000</td>\n",
       "      <td>NaN</td>\n",
       "      <td>NaN</td>\n",
       "      <td>NaN</td>\n",
       "      <td>29.885714</td>\n",
       "      <td>36.300000</td>\n",
       "      <td>25.500000</td>\n",
       "      <td>20.157143</td>\n",
       "      <td>133.200000</td>\n",
       "      <td>53.000000</td>\n",
       "    </tr>\n",
       "  </tbody>\n",
       "</table>\n",
       "</div>"
      ],
      "text/plain": [
       "       Rainfall Total  Max 30Min Rainfall  Max 60Min Rainfall  \\\n",
       "count      373.000000                 0.0                 0.0   \n",
       "mean        51.947453                 NaN                 NaN   \n",
       "std         43.016111                 NaN                 NaN   \n",
       "min          0.000000                 NaN                 NaN   \n",
       "25%         16.000000                 NaN                 NaN   \n",
       "50%         45.200000                 NaN                 NaN   \n",
       "75%         78.100000                 NaN                 NaN   \n",
       "max        215.200000                 NaN                 NaN   \n",
       "\n",
       "       Max 120Min Rainfall  Mean Temperature  Max Temperature  \\\n",
       "count                  0.0        270.000000       373.000000   \n",
       "mean                   NaN         27.566989        33.942359   \n",
       "std                    NaN          0.835618         0.896305   \n",
       "min                    NaN         25.442857        30.600000   \n",
       "25%                    NaN         27.032143        33.400000   \n",
       "50%                    NaN         27.580000        33.900000   \n",
       "75%                    NaN         28.110714        34.600000   \n",
       "max                    NaN         29.885714        36.300000   \n",
       "\n",
       "       Min Temperature  Mean Wind Speed  Max Wind Speed        week  \n",
       "count       373.000000       373.000000      373.000000  373.000000  \n",
       "mean         22.780965         9.357277       43.629223   26.099196  \n",
       "std           2.200596         2.535895        9.555620   15.253003  \n",
       "min           0.000000         3.900000       20.500000    1.000000  \n",
       "25%          22.400000         7.614286       37.100000   13.000000  \n",
       "50%          23.000000         8.742857       42.500000   26.000000  \n",
       "75%          23.500000        10.400000       48.200000   39.000000  \n",
       "max          25.500000        20.157143      133.200000   53.000000  "
      ]
     },
     "execution_count": 231,
     "metadata": {},
     "output_type": "execute_result"
    }
   ],
   "source": [
    "dfWeeklyWeather.describe()"
   ]
  },
  {
   "cell_type": "code",
   "execution_count": null,
   "metadata": {},
   "outputs": [],
   "source": []
  }
 ],
 "metadata": {
  "kernelspec": {
   "display_name": "Python 3",
   "language": "python",
   "name": "python3"
  },
  "language_info": {
   "codemirror_mode": {
    "name": "ipython",
    "version": 3
   },
   "file_extension": ".py",
   "mimetype": "text/x-python",
   "name": "python",
   "nbconvert_exporter": "python",
   "pygments_lexer": "ipython3",
   "version": "3.7.0"
  }
 },
 "nbformat": 4,
 "nbformat_minor": 1
}
